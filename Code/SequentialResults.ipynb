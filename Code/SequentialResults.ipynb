{
 "cells": [
  {
   "cell_type": "code",
   "execution_count": 46,
   "id": "0674d778",
   "metadata": {},
   "outputs": [
    {
     "name": "stdout",
     "output_type": "stream",
     "text": [
      "Compilation successful!\n"
     ]
    }
   ],
   "source": [
    "import subprocess\n",
    "\n",
    "type = 'Edges'\n",
    "if type == \"Adj\":\n",
    "    Heading = \"Adjacency List\"\n",
    "else:\n",
    "    Heading = \"Edge List\"\n",
    "\n",
    "filename = 'Sequential-Boruvka-' + type\n",
    "cpp_filename = filename + '.cpp'\n",
    "executable_filename = filename + '.o'\n",
    "results_filename = filename + '.results'\n",
    "\n",
    "# Compile the C++ file\n",
    "compile_command = f\"g++ -std=c++17 -o {executable_filename} {cpp_filename}\"\n",
    "try:\n",
    "    subprocess.run(compile_command, shell=True, check=True)\n",
    "    print(\"Compilation successful!\")\n",
    "except subprocess.CalledProcessError as e:\n",
    "    print(f\"Compilation failed with error: {e}\")\n",
    "    exit(1)\n"
   ]
  },
  {
   "cell_type": "code",
   "execution_count": 47,
   "id": "8ce39748",
   "metadata": {},
   "outputs": [
    {
     "name": "stdout",
     "output_type": "stream",
     "text": [
      "Running for input 1000...\n",
      "  Run 1...\n",
      "  Run 2...\n",
      "  Run 3...\n",
      "  Run 4...\n",
      "  Run 5...\n",
      "Running for input 2000...\n",
      "  Run 1...\n",
      "  Run 2...\n",
      "  Run 3...\n",
      "  Run 4...\n",
      "  Run 5...\n",
      "Running for input 3000...\n",
      "  Run 1...\n",
      "  Run 2...\n",
      "  Run 3...\n",
      "  Run 4...\n",
      "  Run 5...\n",
      "Running for input 4000...\n",
      "  Run 1...\n",
      "  Run 2...\n",
      "  Run 3...\n",
      "  Run 4...\n",
      "  Run 5...\n",
      "Running for input 5000...\n",
      "  Run 1...\n",
      "  Run 2...\n",
      "  Run 3...\n",
      "  Run 4...\n",
      "  Run 5...\n",
      "All runs complete. Results saved to Sequential-Boruvka-Edges.results.\n"
     ]
    }
   ],
   "source": [
    "# Define the inputs and thread counts\n",
    "input_values = [1000, 2000, 3000, 4000, 5000]\n",
    "\n",
    "# Create or clear the results file\n",
    "with open(results_filename, 'w') as file:\n",
    "    file.write(\"\")\n",
    "\n",
    "# Run the tests\n",
    "for input_size in input_values:\n",
    "    print(f\"Running for input {input_size}...\")\n",
    "\n",
    "    # Write the header for this input\n",
    "    with open(results_filename, 'a') as file:\n",
    "        file.write(f\"Input: {input_size}\\n\")\n",
    "\n",
    "    # Initialize sum for milliseconds\n",
    "    total_ms = 0\n",
    "\n",
    "    # Run 5 times\n",
    "    for run in range(1, 6):\n",
    "        print(f\"  Run {run}...\")\n",
    "\n",
    "        # Run the program and capture the output\n",
    "        result = subprocess.run(\n",
    "            ['./' + executable_filename, str(input_size), str(1)],  # Use the variable here\n",
    "            capture_output=True, text=True\n",
    "        )\n",
    "\n",
    "        output = result.stdout\n",
    "        # Extract the last two lines\n",
    "        last_two_lines = \"\\n\".join(output.splitlines()[-2:])\n",
    "\n",
    "        # Write the run output to file\n",
    "        with open(results_filename, 'a') as file:\n",
    "            file.write(f\"Run {run}:\\n\")\n",
    "            file.write(f\"{last_two_lines}\\n\")\n",
    "\n",
    "        # Extract milliseconds value\n",
    "        ms_line = [line for line in last_two_lines.splitlines() if 'milliseconds' in line][0]\n",
    "        ms = float(ms_line.split()[5])\n",
    "\n",
    "        # Accumulate the sum of milliseconds\n",
    "        total_ms += ms\n",
    "\n",
    "    # Calculate the average time in milliseconds\n",
    "    avg_ms = total_ms / 5\n",
    "\n",
    "    # Write averages to file\n",
    "    with open(results_filename, 'a') as file:\n",
    "        file.write(f\"Average Time to build MST: {avg_ms:.5f} milliseconds\\n\")\n",
    "        file.write(\"-----------------------------------\\n\")\n",
    "\n",
    "print(f\"All runs complete. Results saved to {results_filename}.\")\n"
   ]
  },
  {
   "cell_type": "code",
   "execution_count": 48,
   "id": "bb62fe49",
   "metadata": {},
   "outputs": [
    {
     "name": "stdout",
     "output_type": "stream",
     "text": [
      "Input: 1000, Avg Time: 3.04562 ms\n",
      "Input: 2000, Avg Time: 4.60305 ms\n",
      "Input: 3000, Avg Time: 6.83262 ms\n",
      "Input: 4000, Avg Time: 9.17070 ms\n",
      "Input: 5000, Avg Time: 11.25998 ms\n",
      "Average times in milliseconds:\n",
      "Input Size: 1000, Average Time: 3.04562 ms\n",
      "Input Size: 2000, Average Time: 4.60305 ms\n",
      "Input Size: 3000, Average Time: 6.83262 ms\n",
      "Input Size: 4000, Average Time: 9.17070 ms\n",
      "Input Size: 5000, Average Time: 11.25998 ms\n"
     ]
    }
   ],
   "source": [
    "import matplotlib.pyplot as plt\n",
    "\n",
    "# Define the input sizes and thread counts\n",
    "input_sizes = [1000, 2000, 3000, 4000, 5000]\n",
    "\n",
    "# Initialize a dictionary to store average times in milliseconds\n",
    "avg_times_ms = {input_size: 0 for input_size in input_sizes}\n",
    "\n",
    "# Read the results.txt file\n",
    "with open(results_filename, 'r') as file:\n",
    "    lines = file.readlines()\n",
    "\n",
    "current_input = None\n",
    "\n",
    "# Parse the file\n",
    "for line in lines:\n",
    "    line = line.strip()\n",
    "\n",
    "    # Detect the input size\n",
    "    if line.startswith('Input:'):\n",
    "        current_input = int(line.split(':')[1].strip())\n",
    "\n",
    "    # Extract the average time for MST in milliseconds\n",
    "    if line.startswith('Average Time to build MST:') and 'milliseconds' in line:\n",
    "        avg_ms = float(line.split(':')[1].split()[0])\n",
    "\n",
    "        # Store the average time for the input size\n",
    "        avg_times_ms[current_input] = avg_ms\n",
    "        print(f\"Input: {current_input}, Avg Time: {avg_ms:.5f} ms\")\n",
    "\n",
    "print(\"Average times in milliseconds:\")\n",
    "for input_size, avg_time in avg_times_ms.items():\n",
    "    print(f\"Input Size: {input_size}, Average Time: {avg_time:.5f} ms\")\n"
   ]
  },
  {
   "cell_type": "code",
   "execution_count": 49,
   "id": "d8b8a157",
   "metadata": {},
   "outputs": [
    {
     "data": {
      "image/png": "[encoded data removed]",
      "text/plain": [
       "<Figure size 1000x600 with 1 Axes>"
      ]
     },
     "metadata": {},
     "output_type": "display_data"
    }
   ],
   "source": [
    "# Now plot the graph\n",
    "plt.figure(figsize=(10, 6))\n",
    "\n",
    "# Plot the graph for input sizes and their corresponding average times\n",
    "plt.plot(input_sizes, list(avg_times_ms.values()), marker='o', color='blue', label='Average Time')\n",
    "\n",
    "plt.xlabel('Number of Vertices')\n",
    "plt.ylabel('Average Time (milliseconds)')\n",
    "plt.title(f'Sequential Boruvka MST - Time vs Number of Nodes using {Heading}')\n",
    "plt.legend()\n",
    "plt.grid(True)\n",
    "plt.xticks(input_sizes)\n",
    "\n",
    "# Show the plot\n",
    "plt.show()"
   ]
  },
  {
   "cell_type": "code",
   "execution_count": 50,
   "id": "fe740e93",
   "metadata": {},
   "outputs": [
    {
     "name": "stdout",
     "output_type": "stream",
     "text": [
      "Cleaned up: Removed Sequential-Boruvka-Edges.o and Sequential-Boruvka-Edges.results.\n"
     ]
    }
   ],
   "source": [
    "import os\n",
    "\n",
    "os.remove(executable_filename)\n",
    "os.remove(results_filename)\n",
    "print(f\"Cleaned up: Removed {executable_filename} and {results_filename}.\")\n"
   ]
  }
 ],
 "metadata": {
  "kernelspec": {
   "display_name": "base",
   "language": "python",
   "name": "python3"
  },
  "language_info": {
   "codemirror_mode": {
    "name": "ipython",
    "version": 3
   },
   "file_extension": ".py",
   "mimetype": "text/x-python",
   "name": "python",
   "nbconvert_exporter": "python",
   "pygments_lexer": "ipython3",
   "version": "3.12.7"
  }
 },
 "nbformat": 4,
 "nbformat_minor": 5
}
